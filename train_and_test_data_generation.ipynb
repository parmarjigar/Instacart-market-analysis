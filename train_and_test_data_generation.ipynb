{
 "cells": [
  {
   "cell_type": "markdown",
   "metadata": {
    "id": "oZ-bM1Jl8PfX"
   },
   "source": [
    "# Load the imports"
   ]
  },
  {
   "cell_type": "code",
   "execution_count": 1,
   "metadata": {
    "id": "ywSH_gE94onQ"
   },
   "outputs": [],
   "source": [
    "import gc\n",
    "import pandas as pd\n",
    "import numpy as np\n",
    "import os\n",
    "import arboretum\n",
    "import lightgbm as lgb\n",
    "import json\n",
    "import sklearn.metrics\n",
    "from sklearn.metrics import f1_score, roc_auc_score\n",
    "from sklearn.model_selection import train_test_split\n",
    "from scipy.sparse import dok_matrix, coo_matrix\n",
    "from sklearn.utils.multiclass import  type_of_target"
   ]
  },
  {
   "cell_type": "markdown",
   "metadata": {
    "id": "v3rqzVJN8Mad"
   },
   "source": [
    "# Load the datasets"
   ]
  },
  {
   "cell_type": "code",
   "execution_count": 2,
   "metadata": {
    "id": "ygDIVRcf4y9X"
   },
   "outputs": [],
   "source": [
    "aisles = pd.read_csv(\"data/aisles.csv\",\n",
    "                     dtype={'aisle': 'category'})\n",
    "departments = pd.read_csv(\"data/departments.csv\",\n",
    "                          dtype={'department': 'category'})\n",
    "order_prior = pd.read_csv(\"data/order_products__prior.csv\",\n",
    "                          dtype={'reordered': bool})\n",
    "order_train = pd.read_csv(\"data/order_products__train.csv\",\n",
    "                          dtype={'reordered': bool})\n",
    "orders = pd.read_csv(\"data/orders.csv\",\n",
    "                     dtype={'eval_set': 'category'})\n",
    "\n",
    "products = pd.read_csv(\"data/products.csv\")\n",
    "\n",
    "product_embeddings = pd.read_pickle('data/product_embeddings.pkl')\n",
    "embedings = list(range(32))\n",
    "product_embeddings = product_embeddings[embedings + ['product_id']]\n",
    "\n",
    "order_train = pd.read_pickle(\"data/train_test_set.pkl\")\n",
    "product_periods = pd.read_pickle(\"data/product_periods_stat.pkl\").fillna(9999)\n",
    "user_dep_stat = pd.read_pickle(\"data/user_department_products.pkl\")\n",
    "user_aisle_stat = pd.read_pickle(\"data/user_aisle_products.pkl\")\n",
    "order_streaks = pd.read_csv(\"data/order_streaks.csv\")"
   ]
  },
  {
   "cell_type": "markdown",
   "metadata": {
    "id": "uPZCLxNe8ZLv"
   },
   "source": [
    "# Get the train and test orders"
   ]
  },
  {
   "cell_type": "code",
   "execution_count": 3,
   "metadata": {
    "id": "6XY-z1Pi5w_g"
   },
   "outputs": [],
   "source": [
    "order_test = order_train[order_train.eval_set == \"test\"][['order_id',\n",
    "                                                          'product_id']]\n",
    "order_train = order_train[order_train.eval_set == \"train\"][['order_id',\n",
    "                                                            'product_id',\n",
    "                                                            'reordered']]"
   ]
  },
  {
   "cell_type": "markdown",
   "metadata": {
    "id": "ycCT87rq9UWj"
   },
   "source": [
    "# Compute other features"
   ]
  },
  {
   "cell_type": "code",
   "execution_count": 4,
   "metadata": {
    "id": "C2WaUR1y8ghI"
   },
   "outputs": [],
   "source": [
    "prob = pd.merge(order_prior, orders, on='order_id')\n",
    "\n",
    "# Calculate the count of user ordered a given product and how many times\n",
    "# the product was reorderd by the user\n",
    "prob = prob.groupby(\n",
    "    ['product_id', 'user_id']).agg(\n",
    "    {\n",
    "    'reordered':'sum',\n",
    "    'user_id': 'size'\n",
    "    })\n",
    "\n",
    "# Rename the grouped columns\n",
    "prob.rename(\n",
    "    columns={'sum': 'reordered', 'user_id': 'total'},\n",
    "    inplace=True\n",
    "    )\n",
    "\n",
    "# Calculate the ratio of reorder\n",
    "prob['reorder_prob'] = prob.reordered / prob.total\n",
    "\n",
    "# Calculate the mean of the product reordered\n",
    "prob = prob.groupby('product_id').agg({'reorder_prob': 'mean'})\n",
    "prob = prob.rename(columns={'mean': 'reorder_prob'}).reset_index()\n"
   ]
  },
  {
   "cell_type": "markdown",
   "metadata": {
    "id": "LrWZGsxMFhQO"
   },
   "source": [
    "## Calculate the product statistics"
   ]
  },
  {
   "cell_type": "code",
   "execution_count": 5,
   "metadata": {
    "id": "r4x9SgfeFjYR"
   },
   "outputs": [],
   "source": [
    "# Calculate the count of product was totally ordered and how many times it was\n",
    "# reordered\n",
    "prod_stat = order_prior.groupby('product_id').agg(\n",
    "    {\n",
    "    'reordered': ['sum', 'size'],\n",
    "    'add_to_cart_order':'mean'\n",
    "    })\n",
    "\n",
    "# Set the column to level 1\n",
    "prod_stat.columns = prod_stat.columns.levels[1]\n",
    "# Rename the columns\n",
    "prod_stat.rename(columns={'sum':'prod_reorders',\n",
    "                          'size':'prod_orders',\n",
    "                          'mean': 'prod_add_to_card_mean'}, inplace=True)\n",
    "prod_stat.reset_index(inplace=True)\n",
    "\n",
    "prod_stat['reorder_ration'] = prod_stat['prod_reorders'] / prod_stat['prod_orders']\n",
    "\n",
    "prod_stat = pd.merge(prod_stat, prob, on='product_id')"
   ]
  },
  {
   "cell_type": "markdown",
   "metadata": {
    "id": "wjfLvofEFolD"
   },
   "source": [
    "## Calculate user statistics"
   ]
  },
  {
   "cell_type": "code",
   "execution_count": 6,
   "metadata": {
    "id": "n2idy0jSFrqW"
   },
   "outputs": [],
   "source": [
    "# Get the max order_number for a given user_id\n",
    "# calculate the sum, mean, median of days_since_prior_order\n",
    "user_stat = orders[orders.eval_set == 'prior'].groupby('user_id').agg(\n",
    "    {\n",
    "        'order_number': 'max',\n",
    "        'days_since_prior_order': ['sum','mean','median']\n",
    "     })\n",
    "\n",
    "# Drop the 0th level of column generated from groupby\n",
    "user_stat.columns = user_stat.columns.droplevel(0)\n",
    "user_stat.rename(columns={'max': 'user_orders',\n",
    "                          'sum': 'user_order_starts_at',\n",
    "                          'mean': 'user_mean_days_since_prior',\n",
    "                          'median': 'user_median_days_since_prior'},\n",
    "                 inplace=True)\n",
    "\n",
    "user_stat.reset_index(inplace=True)\n",
    "\n",
    "# Merging the orders and prior orders to get the products info for orders\n",
    "orders_products = pd.merge(orders, order_prior, on=\"order_id\")\n",
    "\n",
    "# Compute the number of times user reordered till now and count of unique\n",
    "# products ordered by the user\n",
    "user_order_stat = orders_products.groupby('user_id').agg(\n",
    "    {\n",
    "        \"user_id\": \"size\",\n",
    "        \"reordered\": \"sum\",\n",
    "        \"product_id\": lambda x: x.nunique()\n",
    "    })\n",
    "\n",
    "user_order_stat.rename(\n",
    "    columns = {\n",
    "        'user_id':'user_total_products',\n",
    "        'product_id': 'user_distinct_products',\n",
    "        'reordered': 'user_reorder_ratio'\n",
    "    },\n",
    "    inplace=True)\n",
    "\n",
    "user_order_stat.reset_index(inplace=True)\n",
    "\n",
    "# compute the reorder ratio based on how many times the user has reordered till\n",
    "# now by total products ordered by the user\n",
    "user_order_stat['user_reorder_ratio'] = user_order_stat['user_reorder_ratio'] / user_order_stat['user_total_products']\n",
    "\n",
    "user_stat = pd.merge(user_stat, user_order_stat, on='user_id')\n",
    "# Calculate the avg basket size by total products bought and total user orders\n",
    "user_stat['user_average_basket'] = (user_stat['user_total_products'] \n",
    "                                    / user_stat['user_orders'])"
   ]
  },
  {
   "cell_type": "markdown",
   "metadata": {
    "id": "A_H85d_mNTeO"
   },
   "source": [
    "## User product Features"
   ]
  },
  {
   "cell_type": "code",
   "execution_count": 7,
   "metadata": {
    "id": "_9-JMzXNNVWi"
   },
   "outputs": [],
   "source": [
    "# How many users purchased a given product?\n",
    "prod_usr = orders_products.groupby(['product_id']).agg(\n",
    "    {'user_id': lambda x: x.nunique()})\n",
    "prod_usr.rename(columns={'user_id':'prod_users_unq'}, inplace=True)\n",
    "prod_usr.reset_index(inplace=True)\n",
    "\n",
    "# How many users reordered a product?\n",
    "prod_usr_reordered = orders_products[orders_products.reordered==True].groupby(\n",
    "    ['product_id']).agg(\n",
    "        {'user_id': lambda x: x.nunique()}\n",
    "        )\n",
    "prod_usr_reordered.rename(columns={'user_id': 'prod_users_unq_reordered'}, inplace=True)\n",
    "prod_usr_reordered.reset_index(inplace=True)\n",
    "\n",
    "order_stat = orders_products.groupby('order_id').agg(\n",
    "    {'order_id': 'size'})\n",
    "order_stat = order_stat.rename(columns={'order_id': 'order_size'}).reset_index()\n",
    "\n",
    "orders_products = pd.merge(orders_products, order_stat, on='order_id')\n",
    "orders_products['add_to_cart_order_inverted'] = orders_products['order_size'] - orders_products['add_to_cart_order']\n",
    "orders_products['add_to_cart_order_relative'] = orders_products['add_to_cart_order'] / orders_products['order_size']\n",
    "\n",
    "# Compute user product features related to orders\n",
    "data = orders_products.groupby(['user_id', 'product_id']).agg(\n",
    "    {\n",
    "        'user_id': 'size',\n",
    "        'order_number': ['min', 'max'],\n",
    "        'add_to_cart_order': ['mean', 'median'],\n",
    "        'days_since_prior_order': ['mean', 'median'],\n",
    "        'order_dow': ['mean', 'median'],\n",
    "        'order_hour_of_day': ['mean', 'median'],\n",
    "        'add_to_cart_order_inverted': ['mean', 'median'],\n",
    "        'add_to_cart_order_relative': ['mean', 'median'],\n",
    "        'reordered': ['sum']\n",
    "     })\n",
    "\n",
    "data.columns = data.columns.droplevel(0)\n",
    "data.columns = ['up_orders', 'up_first_order', 'up_last_order',\n",
    "                'up_mean_cart_position', 'up_median_cart_position',\n",
    "                'days_since_prior_order_mean',\n",
    "                'days_since_prior_order_median', 'order_dow_mean',\n",
    "                'order_dow_median', 'order_hour_of_day_mean', \n",
    "                'order_hour_of_day_median', 'add_to_cart_order_inverted_mean',\n",
    "                'add_to_cart_order_inverted_median',\n",
    "                'add_to_cart_order_relative_mean',\n",
    "                'add_to_cart_order_relative_median',\n",
    "                'reordered_sum']\n",
    "\n",
    "# Adding 1 incae of reordered_sum is 0\n",
    "data['user_product_reordered_ratio'] = (data['reordered_sum'] + 1.0) / data['up_orders']\n",
    "\n",
    "data.reset_index(inplace=True)\n",
    "\n",
    "data = pd.merge(data, prod_stat, on='product_id')\n",
    "data = pd.merge(data, user_stat, on='user_id')\n",
    "\n",
    "# Ratio of user ordered a particular product by total orders by the order\n",
    "data['up_order_rate'] = data['up_orders'] / data['user_orders']\n",
    "data['up_orders_since_last_order'] = data['user_orders'] - data['up_last_order']\n",
    "# ordering rate since first order by the user\n",
    "data['up_order_rate_since_first_order'] = data['user_orders'] / (data['user_orders'] - data['up_first_order'] + 1)"
   ]
  },
  {
   "cell_type": "markdown",
   "metadata": {
    "id": "dXRsFuiWUAFu"
   },
   "source": [
    "# Prepare final Train data"
   ]
  },
  {
   "cell_type": "code",
   "execution_count": 8,
   "metadata": {
    "id": "zRQ_PXDRUCcw"
   },
   "outputs": [
    {
     "name": "stdout",
     "output_type": "stream",
     "text": [
      "Final shape of train data (8474661, 91)\n"
     ]
    }
   ],
   "source": [
    "# Merge products\n",
    "order_train = pd.merge(order_train, products, on='product_id')\n",
    "# Merge the orders\n",
    "order_train = pd.merge(order_train, orders, on='order_id')\n",
    "# Merge the User department statistics\n",
    "order_train = pd.merge(order_train, user_dep_stat, on=['user_id', 'department_id'])\n",
    "# Merge the user aisle statistics\n",
    "order_train = pd.merge(order_train, user_aisle_stat, on=['user_id', 'aisle_id'])\n",
    "\n",
    "# Merge the user products features\n",
    "order_train = pd.merge(order_train, prod_usr, on='product_id')\n",
    "# Merge the user product reordered stats\n",
    "order_train = pd.merge(order_train, prod_usr_reordered, on='product_id', how='left')\n",
    "order_train.prod_users_unq_reordered.fillna(0, inplace=True)\n",
    "\n",
    "# Merge the this prepared set with the data\n",
    "order_train = pd.merge(order_train, data, on=['product_id', 'user_id'])\n",
    "\n",
    "# Compute the aisle and departement reorder ratio\n",
    "order_train['aisle_reordered_ratio'] = order_train['aisle_reordered'] / order_train['user_orders']\n",
    "order_train['dep_reordered_ratio'] = order_train['dep_reordered'] / order_train['user_orders']\n",
    "\n",
    "order_train = pd.merge(order_train, product_periods, on=['user_id',  'product_id'])\n",
    "order_train = pd.merge(order_train, order_streaks, on=['user_id', 'product_id'], how='left')\n",
    "order_train = pd.merge(order_train, product_embeddings, on=['product_id'])\n",
    "print(f\"Final shape of train data {order_train.shape}\")"
   ]
  },
  {
   "cell_type": "markdown",
   "metadata": {
    "id": "mT9KMQL6WAZ-"
   },
   "source": [
    "# Prepare Final Test Data"
   ]
  },
  {
   "cell_type": "code",
   "execution_count": 9,
   "metadata": {
    "id": "dI36yiTtWC0E"
   },
   "outputs": [
    {
     "name": "stdout",
     "output_type": "stream",
     "text": [
      "Final shape of test data (4833292, 90)\n"
     ]
    }
   ],
   "source": [
    "# Merge products\n",
    "order_test = pd.merge(order_test, products, on='product_id')\n",
    "# Merge the orders\n",
    "order_test = pd.merge(order_test, orders, on='order_id')\n",
    "# Merge the User department statistics\n",
    "order_test = pd.merge(order_test, user_dep_stat, on=['user_id', 'department_id'])\n",
    "# Merge the user aisle statistics\n",
    "order_test = pd.merge(order_test, user_aisle_stat, on=['user_id', 'aisle_id'])\n",
    "# Merge the user products features\n",
    "order_test = pd.merge(order_test, prod_usr, on='product_id')\n",
    "# Merge the user product reordered stats\n",
    "order_test = pd.merge(order_test, prod_usr_reordered, on='product_id', how='left')\n",
    "order_train.prod_users_unq_reordered.fillna(0, inplace=True)\n",
    "\n",
    "# Merge the this prepared set with the data\n",
    "order_test = pd.merge(order_test, data, on=['product_id', 'user_id'])\n",
    "\n",
    "# Compute the aisle and departement reorder ratio\n",
    "order_test['aisle_reordered_ratio'] = order_test['aisle_reordered'] / order_test['user_orders']\n",
    "order_test['dep_reordered_ratio'] = order_test['dep_reordered'] / order_test['user_orders']\n",
    "\n",
    "order_test = pd.merge(order_test, product_periods, on=['user_id', 'product_id'])\n",
    "order_test = pd.merge(order_test, product_embeddings, on=['product_id'])\n",
    "order_test = pd.merge(order_test, order_streaks, on=['user_id', 'product_id'], how='left')\n",
    "print(f\"Final shape of test data {order_test.shape}\")"
   ]
  },
  {
   "cell_type": "markdown",
   "metadata": {},
   "source": [
    "# Get the necessary features"
   ]
  },
  {
   "cell_type": "code",
   "execution_count": 15,
   "metadata": {},
   "outputs": [],
   "source": [
    "features = [\n",
    "    'user_product_reordered_ratio', 'reordered_sum',\n",
    "    'add_to_cart_order_inverted_mean',\n",
    "    'add_to_cart_order_relative_mean', 'reorder_prob',\n",
    "    'last', 'prev1', 'prev2', 'median', 'mean',\n",
    "    'dep_reordered_ratio', 'aisle_reordered_ratio',\n",
    "    'aisle_products', 'aisle_reordered',\n",
    "    'dep_products', 'dep_reordered',\n",
    "    'prod_users_unq', 'prod_users_unq_reordered',\n",
    "    'order_number', 'prod_add_to_card_mean',\n",
    "    'days_since_prior_order',\n",
    "    'order_dow', 'order_hour_of_day',\n",
    "    'reorder_ration', 'user_orders',\n",
    "    'user_order_starts_at', 'user_mean_days_since_prior',\n",
    "    'user_average_basket', 'user_distinct_products',\n",
    "    'user_reorder_ratio', 'user_total_products',\n",
    "    'prod_orders', 'prod_reorders',\n",
    "    'up_order_rate', 'up_orders_since_last_order',\n",
    "    'up_order_rate_since_first_order',\n",
    "    'up_orders', 'up_first_order', 'up_last_order',\n",
    "    'up_mean_cart_position', 'days_since_prior_order_mean',\n",
    "    'order_dow_mean', 'order_hour_of_day_mean',\n",
    "    'user_id', 'order_id'\n",
    "    ]\n",
    "features.extend(embedings)\n",
    "categories = ['product_id', 'aisle_id', 'department_id']\n",
    "features.extend(categories)"
   ]
  },
  {
   "cell_type": "code",
   "execution_count": 18,
   "metadata": {},
   "outputs": [],
   "source": [
    "data = order_train[features]\n",
    "labels = order_train[['reordered']].values.astype(np.float32).flatten()\n",
    "features.remove('user_id')\n",
    "data_val = order_test[features]"
   ]
  },
  {
   "cell_type": "code",
   "execution_count": 19,
   "metadata": {},
   "outputs": [
    {
     "name": "stdout",
     "output_type": "stream",
     "text": [
      "shape of data is (8474661, 80), shape of data_val is (4833292, 79)\n"
     ]
    }
   ],
   "source": [
    "print(f\"shape of data is {data.shape}, shape of data_val is {data_val.shape}\")"
   ]
  },
  {
   "cell_type": "markdown",
   "metadata": {},
   "source": [
    "# Save the data"
   ]
  },
  {
   "cell_type": "code",
   "execution_count": null,
   "metadata": {},
   "outputs": [],
   "source": [
    "data.to_pickle(\"data/final_train.pkl\")\n",
    "data_val.to_pickle(\"data/final_test.pkl\")\n",
    "labels = pd.DataFrame(labels, columns=['labels'])\n",
    "labels.to_pickle(\"data/final_labels.pkl\")"
   ]
  }
 ],
 "metadata": {
  "colab": {
   "collapsed_sections": [],
   "name": "train_and_test data generation.ipynb",
   "provenance": []
  },
  "kernelspec": {
   "display_name": "Python 3",
   "language": "python",
   "name": "python3"
  },
  "language_info": {
   "codemirror_mode": {
    "name": "ipython",
    "version": 3
   },
   "file_extension": ".py",
   "mimetype": "text/x-python",
   "name": "python",
   "nbconvert_exporter": "python",
   "pygments_lexer": "ipython3",
   "version": "3.6.9"
  }
 },
 "nbformat": 4,
 "nbformat_minor": 1
}
